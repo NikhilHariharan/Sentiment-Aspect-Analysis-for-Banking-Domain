{
 "cells": [
  {
   "cell_type": "code",
   "execution_count": 1,
   "metadata": {},
   "outputs": [],
   "source": [
    "import pandas as pd\n",
    "import seaborn as sns\n",
    "import numpy as np\n",
    "import matplotlib.pyplot as plt\n",
    "%matplotlib inline\n",
    "import string\n",
    "import itertools\n",
    "from collections import Counter\n",
    "import nltk\n",
    "from nltk.corpus import stopwords\n",
    "import spacy\n",
    "from vaderSentiment.vaderSentiment import SentimentIntensityAnalyzer"
   ]
  },
  {
   "cell_type": "code",
   "execution_count": 2,
   "metadata": {},
   "outputs": [
    {
     "name": "stderr",
     "output_type": "stream",
     "text": [
      "[nltk_data] Downloading package punkt to C:\\Users\\Nikhil\n",
      "[nltk_data]     Hariharan\\AppData\\Roaming\\nltk_data...\n",
      "[nltk_data]   Package punkt is already up-to-date!\n"
     ]
    },
    {
     "data": {
      "text/plain": [
       "True"
      ]
     },
     "execution_count": 2,
     "metadata": {},
     "output_type": "execute_result"
    }
   ],
   "source": [
    "nltk.download('punkt')"
   ]
  },
  {
   "cell_type": "code",
   "execution_count": 3,
   "metadata": {},
   "outputs": [
    {
     "name": "stderr",
     "output_type": "stream",
     "text": [
      "[nltk_data] Downloading package stopwords to C:\\Users\\Nikhil\n",
      "[nltk_data]     Hariharan\\AppData\\Roaming\\nltk_data...\n",
      "[nltk_data]   Package stopwords is already up-to-date!\n"
     ]
    },
    {
     "data": {
      "text/plain": [
       "True"
      ]
     },
     "execution_count": 3,
     "metadata": {},
     "output_type": "execute_result"
    }
   ],
   "source": [
    "nltk.download('stopwords')"
   ]
  },
  {
   "cell_type": "code",
   "execution_count": 4,
   "metadata": {},
   "outputs": [
    {
     "name": "stderr",
     "output_type": "stream",
     "text": [
      "[nltk_data] Downloading package averaged_perceptron_tagger to\n",
      "[nltk_data]     C:\\Users\\Nikhil Hariharan\\AppData\\Roaming\\nltk_data...\n",
      "[nltk_data]   Package averaged_perceptron_tagger is already up-to-\n",
      "[nltk_data]       date!\n"
     ]
    },
    {
     "data": {
      "text/plain": [
       "True"
      ]
     },
     "execution_count": 4,
     "metadata": {},
     "output_type": "execute_result"
    }
   ],
   "source": [
    "nltk.download('averaged_perceptron_tagger')"
   ]
  },
  {
   "cell_type": "code",
   "execution_count": 5,
   "metadata": {},
   "outputs": [
    {
     "name": "stderr",
     "output_type": "stream",
     "text": [
      "[nltk_data] Downloading package wordnet to C:\\Users\\Nikhil\n",
      "[nltk_data]     Hariharan\\AppData\\Roaming\\nltk_data...\n",
      "[nltk_data]   Package wordnet is already up-to-date!\n"
     ]
    },
    {
     "data": {
      "text/plain": [
       "True"
      ]
     },
     "execution_count": 5,
     "metadata": {},
     "output_type": "execute_result"
    }
   ],
   "source": [
    "nltk.download('wordnet')"
   ]
  },
  {
   "cell_type": "code",
   "execution_count": 6,
   "metadata": {},
   "outputs": [
    {
     "data": {
      "text/html": [
       "<div>\n",
       "<style scoped>\n",
       "    .dataframe tbody tr th:only-of-type {\n",
       "        vertical-align: middle;\n",
       "    }\n",
       "\n",
       "    .dataframe tbody tr th {\n",
       "        vertical-align: top;\n",
       "    }\n",
       "\n",
       "    .dataframe thead th {\n",
       "        text-align: right;\n",
       "    }\n",
       "</style>\n",
       "<table border=\"1\" class=\"dataframe\">\n",
       "  <thead>\n",
       "    <tr style=\"text-align: right;\">\n",
       "      <th></th>\n",
       "      <th>Date</th>\n",
       "      <th>Stars</th>\n",
       "      <th>Reviews</th>\n",
       "      <th>BankName</th>\n",
       "    </tr>\n",
       "  </thead>\n",
       "  <tbody>\n",
       "    <tr>\n",
       "      <th>0</th>\n",
       "      <td>10-04-2017</td>\n",
       "      <td>5</td>\n",
       "      <td>Great job, Wyndham Capital! Each person was pr...</td>\n",
       "      <td>Wyndham Capital Mortgage</td>\n",
       "    </tr>\n",
       "    <tr>\n",
       "      <th>1</th>\n",
       "      <td>10-02-2017</td>\n",
       "      <td>5</td>\n",
       "      <td>Matthew Richardson is professional and helpful...</td>\n",
       "      <td>Wyndham Capital Mortgage</td>\n",
       "    </tr>\n",
       "    <tr>\n",
       "      <th>2</th>\n",
       "      <td>21-08-2017</td>\n",
       "      <td>5</td>\n",
       "      <td>We had a past experience with Wyndham Mortgage...</td>\n",
       "      <td>Wyndham Capital Mortgage</td>\n",
       "    </tr>\n",
       "    <tr>\n",
       "      <th>3</th>\n",
       "      <td>17-12-2017</td>\n",
       "      <td>5</td>\n",
       "      <td>We have been dealing with Brad Thomka from the...</td>\n",
       "      <td>Wyndham Capital Mortgage</td>\n",
       "    </tr>\n",
       "    <tr>\n",
       "      <th>4</th>\n",
       "      <td>27-05-2016</td>\n",
       "      <td>5</td>\n",
       "      <td>I can't express how grateful I am for the supp...</td>\n",
       "      <td>Wyndham Capital Mortgage</td>\n",
       "    </tr>\n",
       "  </tbody>\n",
       "</table>\n",
       "</div>"
      ],
      "text/plain": [
       "         Date  Stars                                            Reviews  \\\n",
       "0  10-04-2017      5  Great job, Wyndham Capital! Each person was pr...   \n",
       "1  10-02-2017      5  Matthew Richardson is professional and helpful...   \n",
       "2  21-08-2017      5  We had a past experience with Wyndham Mortgage...   \n",
       "3  17-12-2017      5  We have been dealing with Brad Thomka from the...   \n",
       "4  27-05-2016      5  I can't express how grateful I am for the supp...   \n",
       "\n",
       "                   BankName  \n",
       "0  Wyndham Capital Mortgage  \n",
       "1  Wyndham Capital Mortgage  \n",
       "2  Wyndham Capital Mortgage  \n",
       "3  Wyndham Capital Mortgage  \n",
       "4  Wyndham Capital Mortgage  "
      ]
     },
     "execution_count": 6,
     "metadata": {},
     "output_type": "execute_result"
    }
   ],
   "source": [
    "customer = pd.read_csv('BankReviews.csv', encoding='windows-1252')\n",
    "customer.head()"
   ]
  },
  {
   "cell_type": "code",
   "execution_count": 7,
   "metadata": {},
   "outputs": [
    {
     "name": "stdout",
     "output_type": "stream",
     "text": [
      "<class 'pandas.core.frame.DataFrame'>\n",
      "RangeIndex: 505 entries, 0 to 504\n",
      "Data columns (total 4 columns):\n",
      " #   Column    Non-Null Count  Dtype \n",
      "---  ------    --------------  ----- \n",
      " 0   Date      505 non-null    object\n",
      " 1   Stars     505 non-null    int64 \n",
      " 2   Reviews   505 non-null    object\n",
      " 3   BankName  505 non-null    object\n",
      "dtypes: int64(1), object(3)\n",
      "memory usage: 15.9+ KB\n"
     ]
    }
   ],
   "source": [
    "customer.info()"
   ]
  },
  {
   "cell_type": "code",
   "execution_count": 8,
   "metadata": {},
   "outputs": [
    {
     "data": {
      "text/plain": [
       "0    Great job, Wyndham Capital! Each person was pr...\n",
       "1    Matthew Richardson is professional and helpful...\n",
       "2    We had a past experience with Wyndham Mortgage...\n",
       "3    We have been dealing with Brad Thomka from the...\n",
       "4    I can't express how grateful I am for the supp...\n",
       "Name: Reviews, dtype: object"
      ]
     },
     "execution_count": 8,
     "metadata": {},
     "output_type": "execute_result"
    }
   ],
   "source": [
    "# using only the Reviews column for further analysis\n",
    "X = customer['Reviews']\n",
    "X.head()"
   ]
  },
  {
   "cell_type": "markdown",
   "metadata": {},
   "source": [
    "# Data Preprocessing"
   ]
  },
  {
   "cell_type": "code",
   "execution_count": 9,
   "metadata": {},
   "outputs": [],
   "source": [
    "# UDF to clean the reviews\n",
    "def clean_text(text):\n",
    "    text = text.lower()\n",
    "    text = text.strip()\n",
    "    text = \"\".join([char for char in text if char not in string.punctuation])\n",
    "    return text"
   ]
  },
  {
   "cell_type": "code",
   "execution_count": 10,
   "metadata": {},
   "outputs": [],
   "source": [
    "# applying clean_text function defined above to remove punctuation, strip extra spaces and convert each word to lowercase\n",
    "X = X.apply(lambda val: clean_text(val))"
   ]
  },
  {
   "cell_type": "code",
   "execution_count": 11,
   "metadata": {},
   "outputs": [
    {
     "data": {
      "text/plain": [
       "0    great job wyndham capital each person was prof...\n",
       "1    matthew richardson is professional and helpful...\n",
       "2    we had a past experience with wyndham mortgage...\n",
       "3    we have been dealing with brad thomka from the...\n",
       "4    i cant express how grateful i am for the suppo...\n",
       "Name: Reviews, dtype: object"
      ]
     },
     "execution_count": 11,
     "metadata": {},
     "output_type": "execute_result"
    }
   ],
   "source": [
    "X.head()"
   ]
  },
  {
   "cell_type": "code",
   "execution_count": 12,
   "metadata": {},
   "outputs": [],
   "source": [
    "# define list of common banking terms\n",
    "banking_words = ['documents','process','loan','mortgage','account','credit','debit','transaction','balance','rate',\n",
    "                 'withdraw','overdraw','overdraft','payment','statement','deposit','collateral','guarantor','bank',\n",
    "                 'charge','business','cash','amount','documentation']"
   ]
  },
  {
   "cell_type": "markdown",
   "metadata": {},
   "source": [
    "# Sentiment & Aspect Analysis"
   ]
  },
  {
   "cell_type": "code",
   "execution_count": 13,
   "metadata": {},
   "outputs": [
    {
     "data": {
      "text/html": [
       "<div>\n",
       "<style scoped>\n",
       "    .dataframe tbody tr th:only-of-type {\n",
       "        vertical-align: middle;\n",
       "    }\n",
       "\n",
       "    .dataframe tbody tr th {\n",
       "        vertical-align: top;\n",
       "    }\n",
       "\n",
       "    .dataframe thead th {\n",
       "        text-align: right;\n",
       "    }\n",
       "</style>\n",
       "<table border=\"1\" class=\"dataframe\">\n",
       "  <thead>\n",
       "    <tr style=\"text-align: right;\">\n",
       "      <th></th>\n",
       "      <th>Date</th>\n",
       "      <th>Stars</th>\n",
       "      <th>Reviews</th>\n",
       "      <th>BankName</th>\n",
       "      <th>Polarity</th>\n",
       "    </tr>\n",
       "  </thead>\n",
       "  <tbody>\n",
       "    <tr>\n",
       "      <th>0</th>\n",
       "      <td>10-04-2017</td>\n",
       "      <td>5</td>\n",
       "      <td>Great job, Wyndham Capital! Each person was pr...</td>\n",
       "      <td>Wyndham Capital Mortgage</td>\n",
       "      <td>0.7650</td>\n",
       "    </tr>\n",
       "    <tr>\n",
       "      <th>1</th>\n",
       "      <td>10-02-2017</td>\n",
       "      <td>5</td>\n",
       "      <td>Matthew Richardson is professional and helpful...</td>\n",
       "      <td>Wyndham Capital Mortgage</td>\n",
       "      <td>0.8402</td>\n",
       "    </tr>\n",
       "    <tr>\n",
       "      <th>2</th>\n",
       "      <td>21-08-2017</td>\n",
       "      <td>5</td>\n",
       "      <td>We had a past experience with Wyndham Mortgage...</td>\n",
       "      <td>Wyndham Capital Mortgage</td>\n",
       "      <td>0.9348</td>\n",
       "    </tr>\n",
       "    <tr>\n",
       "      <th>3</th>\n",
       "      <td>17-12-2017</td>\n",
       "      <td>5</td>\n",
       "      <td>We have been dealing with Brad Thomka from the...</td>\n",
       "      <td>Wyndham Capital Mortgage</td>\n",
       "      <td>0.9606</td>\n",
       "    </tr>\n",
       "    <tr>\n",
       "      <th>4</th>\n",
       "      <td>27-05-2016</td>\n",
       "      <td>5</td>\n",
       "      <td>I can't express how grateful I am for the supp...</td>\n",
       "      <td>Wyndham Capital Mortgage</td>\n",
       "      <td>0.4612</td>\n",
       "    </tr>\n",
       "  </tbody>\n",
       "</table>\n",
       "</div>"
      ],
      "text/plain": [
       "         Date  Stars                                            Reviews  \\\n",
       "0  10-04-2017      5  Great job, Wyndham Capital! Each person was pr...   \n",
       "1  10-02-2017      5  Matthew Richardson is professional and helpful...   \n",
       "2  21-08-2017      5  We had a past experience with Wyndham Mortgage...   \n",
       "3  17-12-2017      5  We have been dealing with Brad Thomka from the...   \n",
       "4  27-05-2016      5  I can't express how grateful I am for the supp...   \n",
       "\n",
       "                   BankName  Polarity  \n",
       "0  Wyndham Capital Mortgage    0.7650  \n",
       "1  Wyndham Capital Mortgage    0.8402  \n",
       "2  Wyndham Capital Mortgage    0.9348  \n",
       "3  Wyndham Capital Mortgage    0.9606  \n",
       "4  Wyndham Capital Mortgage    0.4612  "
      ]
     },
     "execution_count": 13,
     "metadata": {},
     "output_type": "execute_result"
    }
   ],
   "source": [
    "sent_analyzer = SentimentIntensityAnalyzer()\n",
    "\n",
    "def sentiment(text):\n",
    "    return sent_analyzer.polarity_scores(text)['compound']\n",
    "\n",
    "customer['Polarity'] = X.apply(sentiment)\n",
    "customer.head()"
   ]
  },
  {
   "cell_type": "code",
   "execution_count": 14,
   "metadata": {},
   "outputs": [
    {
     "data": {
      "text/html": [
       "<div>\n",
       "<style scoped>\n",
       "    .dataframe tbody tr th:only-of-type {\n",
       "        vertical-align: middle;\n",
       "    }\n",
       "\n",
       "    .dataframe tbody tr th {\n",
       "        vertical-align: top;\n",
       "    }\n",
       "\n",
       "    .dataframe thead th {\n",
       "        text-align: right;\n",
       "    }\n",
       "</style>\n",
       "<table border=\"1\" class=\"dataframe\">\n",
       "  <thead>\n",
       "    <tr style=\"text-align: right;\">\n",
       "      <th></th>\n",
       "      <th>Date</th>\n",
       "      <th>Stars</th>\n",
       "      <th>Reviews</th>\n",
       "      <th>BankName</th>\n",
       "      <th>Polarity</th>\n",
       "      <th>Sentiment</th>\n",
       "    </tr>\n",
       "  </thead>\n",
       "  <tbody>\n",
       "    <tr>\n",
       "      <th>0</th>\n",
       "      <td>10-04-2017</td>\n",
       "      <td>5</td>\n",
       "      <td>Great job, Wyndham Capital! Each person was pr...</td>\n",
       "      <td>Wyndham Capital Mortgage</td>\n",
       "      <td>0.7650</td>\n",
       "      <td>Very_Positive</td>\n",
       "    </tr>\n",
       "    <tr>\n",
       "      <th>1</th>\n",
       "      <td>10-02-2017</td>\n",
       "      <td>5</td>\n",
       "      <td>Matthew Richardson is professional and helpful...</td>\n",
       "      <td>Wyndham Capital Mortgage</td>\n",
       "      <td>0.8402</td>\n",
       "      <td>Very_Positive</td>\n",
       "    </tr>\n",
       "    <tr>\n",
       "      <th>2</th>\n",
       "      <td>21-08-2017</td>\n",
       "      <td>5</td>\n",
       "      <td>We had a past experience with Wyndham Mortgage...</td>\n",
       "      <td>Wyndham Capital Mortgage</td>\n",
       "      <td>0.9348</td>\n",
       "      <td>Very_Positive</td>\n",
       "    </tr>\n",
       "    <tr>\n",
       "      <th>3</th>\n",
       "      <td>17-12-2017</td>\n",
       "      <td>5</td>\n",
       "      <td>We have been dealing with Brad Thomka from the...</td>\n",
       "      <td>Wyndham Capital Mortgage</td>\n",
       "      <td>0.9606</td>\n",
       "      <td>Very_Positive</td>\n",
       "    </tr>\n",
       "    <tr>\n",
       "      <th>4</th>\n",
       "      <td>27-05-2016</td>\n",
       "      <td>5</td>\n",
       "      <td>I can't express how grateful I am for the supp...</td>\n",
       "      <td>Wyndham Capital Mortgage</td>\n",
       "      <td>0.4612</td>\n",
       "      <td>Less_Positive</td>\n",
       "    </tr>\n",
       "  </tbody>\n",
       "</table>\n",
       "</div>"
      ],
      "text/plain": [
       "         Date  Stars                                            Reviews  \\\n",
       "0  10-04-2017      5  Great job, Wyndham Capital! Each person was pr...   \n",
       "1  10-02-2017      5  Matthew Richardson is professional and helpful...   \n",
       "2  21-08-2017      5  We had a past experience with Wyndham Mortgage...   \n",
       "3  17-12-2017      5  We have been dealing with Brad Thomka from the...   \n",
       "4  27-05-2016      5  I can't express how grateful I am for the supp...   \n",
       "\n",
       "                   BankName  Polarity      Sentiment  \n",
       "0  Wyndham Capital Mortgage    0.7650  Very_Positive  \n",
       "1  Wyndham Capital Mortgage    0.8402  Very_Positive  \n",
       "2  Wyndham Capital Mortgage    0.9348  Very_Positive  \n",
       "3  Wyndham Capital Mortgage    0.9606  Very_Positive  \n",
       "4  Wyndham Capital Mortgage    0.4612  Less_Positive  "
      ]
     },
     "execution_count": 14,
     "metadata": {},
     "output_type": "execute_result"
    }
   ],
   "source": [
    "# defining upper & lower bounds for polarity scores\n",
    "upper_lim1 = 0.6\n",
    "upper_lim2 = 0.2\n",
    "lower_lim1 = -0.2\n",
    "lower_lim2 = -0.6\n",
    "\n",
    "def sentiment_class(data):\n",
    "    if data['Polarity'] > upper_lim1:\n",
    "        val = 'Very_Positive'\n",
    "    elif data['Polarity'] <= upper_lim1 and data['Polarity'] > upper_lim2:\n",
    "        val = 'Less_Positive'\n",
    "    elif data['Polarity'] <= upper_lim2 and data['Polarity'] > lower_lim1:\n",
    "        val = 'Neutral'\n",
    "    elif data['Polarity'] <= lower_lim1 and data['Polarity'] > lower_lim2:\n",
    "        val = 'Less_Negative'\n",
    "    else:\n",
    "        val = 'Very_Negative'\n",
    "        \n",
    "    return val\n",
    "\n",
    "customer['Sentiment'] = customer.apply(sentiment_class, axis=1)\n",
    "customer.head()"
   ]
  },
  {
   "cell_type": "code",
   "execution_count": 15,
   "metadata": {},
   "outputs": [
    {
     "data": {
      "image/png": "[encoded data removed]",
      "text/plain": [
       "<Figure size 1080x432 with 2 Axes>"
      ]
     },
     "metadata": {
      "needs_background": "light"
     },
     "output_type": "display_data"
    }
   ],
   "source": [
    "fig, ax = plt.subplots(1, 2, figsize=(15,6))\n",
    "_ = sns.countplot(x='Sentiment', data=customer, ax=ax[0])\n",
    "_ = customer['Sentiment'].value_counts().plot.pie(autopct='%1.1f%%', ax=ax[1])"
   ]
  },
  {
   "cell_type": "code",
   "execution_count": 16,
   "metadata": {},
   "outputs": [],
   "source": [
    "nlp = spacy.load('en_core_web_sm')"
   ]
  },
  {
   "cell_type": "code",
   "execution_count": 17,
   "metadata": {},
   "outputs": [],
   "source": [
    "def pos(text):\n",
    "    doc = nlp(text)\n",
    "    # need to select only Noun tokens\n",
    "    asp = [token.text for token in doc if token.pos_ == 'NOUN']\n",
    "    aspect = set([i for i in asp if i in banking_words])\n",
    "    aspects = list(aspect)\n",
    "    return aspects\n",
    "\n",
    "customer['Aspects'] = X.apply(pos)"
   ]
  },
  {
   "cell_type": "code",
   "execution_count": 18,
   "metadata": {},
   "outputs": [
    {
     "data": {
      "text/html": [
       "<div>\n",
       "<style scoped>\n",
       "    .dataframe tbody tr th:only-of-type {\n",
       "        vertical-align: middle;\n",
       "    }\n",
       "\n",
       "    .dataframe tbody tr th {\n",
       "        vertical-align: top;\n",
       "    }\n",
       "\n",
       "    .dataframe thead th {\n",
       "        text-align: right;\n",
       "    }\n",
       "</style>\n",
       "<table border=\"1\" class=\"dataframe\">\n",
       "  <thead>\n",
       "    <tr style=\"text-align: right;\">\n",
       "      <th></th>\n",
       "      <th>Date</th>\n",
       "      <th>Stars</th>\n",
       "      <th>Reviews</th>\n",
       "      <th>BankName</th>\n",
       "      <th>Polarity</th>\n",
       "      <th>Sentiment</th>\n",
       "      <th>Aspects</th>\n",
       "    </tr>\n",
       "  </thead>\n",
       "  <tbody>\n",
       "    <tr>\n",
       "      <th>0</th>\n",
       "      <td>10-04-2017</td>\n",
       "      <td>5</td>\n",
       "      <td>Great job, Wyndham Capital! Each person was pr...</td>\n",
       "      <td>Wyndham Capital Mortgage</td>\n",
       "      <td>0.7650</td>\n",
       "      <td>Very_Positive</td>\n",
       "      <td>[process]</td>\n",
       "    </tr>\n",
       "    <tr>\n",
       "      <th>1</th>\n",
       "      <td>10-02-2017</td>\n",
       "      <td>5</td>\n",
       "      <td>Matthew Richardson is professional and helpful...</td>\n",
       "      <td>Wyndham Capital Mortgage</td>\n",
       "      <td>0.8402</td>\n",
       "      <td>Very_Positive</td>\n",
       "      <td>[mortgage]</td>\n",
       "    </tr>\n",
       "    <tr>\n",
       "      <th>2</th>\n",
       "      <td>21-08-2017</td>\n",
       "      <td>5</td>\n",
       "      <td>We had a past experience with Wyndham Mortgage...</td>\n",
       "      <td>Wyndham Capital Mortgage</td>\n",
       "      <td>0.9348</td>\n",
       "      <td>Very_Positive</td>\n",
       "      <td>[loan, mortgage]</td>\n",
       "    </tr>\n",
       "    <tr>\n",
       "      <th>3</th>\n",
       "      <td>17-12-2017</td>\n",
       "      <td>5</td>\n",
       "      <td>We have been dealing with Brad Thomka from the...</td>\n",
       "      <td>Wyndham Capital Mortgage</td>\n",
       "      <td>0.9606</td>\n",
       "      <td>Very_Positive</td>\n",
       "      <td>[loan, mortgage]</td>\n",
       "    </tr>\n",
       "    <tr>\n",
       "      <th>4</th>\n",
       "      <td>27-05-2016</td>\n",
       "      <td>5</td>\n",
       "      <td>I can't express how grateful I am for the supp...</td>\n",
       "      <td>Wyndham Capital Mortgage</td>\n",
       "      <td>0.4612</td>\n",
       "      <td>Less_Positive</td>\n",
       "      <td>[process]</td>\n",
       "    </tr>\n",
       "  </tbody>\n",
       "</table>\n",
       "</div>"
      ],
      "text/plain": [
       "         Date  Stars                                            Reviews  \\\n",
       "0  10-04-2017      5  Great job, Wyndham Capital! Each person was pr...   \n",
       "1  10-02-2017      5  Matthew Richardson is professional and helpful...   \n",
       "2  21-08-2017      5  We had a past experience with Wyndham Mortgage...   \n",
       "3  17-12-2017      5  We have been dealing with Brad Thomka from the...   \n",
       "4  27-05-2016      5  I can't express how grateful I am for the supp...   \n",
       "\n",
       "                   BankName  Polarity      Sentiment           Aspects  \n",
       "0  Wyndham Capital Mortgage    0.7650  Very_Positive         [process]  \n",
       "1  Wyndham Capital Mortgage    0.8402  Very_Positive        [mortgage]  \n",
       "2  Wyndham Capital Mortgage    0.9348  Very_Positive  [loan, mortgage]  \n",
       "3  Wyndham Capital Mortgage    0.9606  Very_Positive  [loan, mortgage]  \n",
       "4  Wyndham Capital Mortgage    0.4612  Less_Positive         [process]  "
      ]
     },
     "execution_count": 18,
     "metadata": {},
     "output_type": "execute_result"
    }
   ],
   "source": [
    "customer.head()"
   ]
  },
  {
   "cell_type": "code",
   "execution_count": 19,
   "metadata": {},
   "outputs": [
    {
     "data": {
      "text/html": [
       "<div>\n",
       "<style scoped>\n",
       "    .dataframe tbody tr th:only-of-type {\n",
       "        vertical-align: middle;\n",
       "    }\n",
       "\n",
       "    .dataframe tbody tr th {\n",
       "        vertical-align: top;\n",
       "    }\n",
       "\n",
       "    .dataframe thead th {\n",
       "        text-align: right;\n",
       "    }\n",
       "</style>\n",
       "<table border=\"1\" class=\"dataframe\">\n",
       "  <thead>\n",
       "    <tr style=\"text-align: right;\">\n",
       "      <th></th>\n",
       "      <th>Date</th>\n",
       "      <th>Stars</th>\n",
       "      <th>Reviews</th>\n",
       "      <th>BankName</th>\n",
       "      <th>Polarity</th>\n",
       "      <th>Sentiment</th>\n",
       "      <th>Aspects</th>\n",
       "    </tr>\n",
       "  </thead>\n",
       "  <tbody>\n",
       "    <tr>\n",
       "      <th>500</th>\n",
       "      <td>06-02-2016</td>\n",
       "      <td>1</td>\n",
       "      <td>\\r\\nI never write reviews but had to this time...</td>\n",
       "      <td>North American Savings Bank</td>\n",
       "      <td>0.9540</td>\n",
       "      <td>Very_Positive</td>\n",
       "      <td>[loan, credit, amount, account, documents, bus...</td>\n",
       "    </tr>\n",
       "    <tr>\n",
       "      <th>501</th>\n",
       "      <td>25-07-2016</td>\n",
       "      <td>1</td>\n",
       "      <td>\\r\\nIt all started when Bob G ran a credit che...</td>\n",
       "      <td>North American Savings Bank</td>\n",
       "      <td>-0.0457</td>\n",
       "      <td>Neutral</td>\n",
       "      <td>[credit, bank]</td>\n",
       "    </tr>\n",
       "    <tr>\n",
       "      <th>502</th>\n",
       "      <td>27-09-2017</td>\n",
       "      <td>1</td>\n",
       "      <td>\\r\\nWhat a horrible experience. We have excell...</td>\n",
       "      <td>North American Savings Bank</td>\n",
       "      <td>-0.3129</td>\n",
       "      <td>Less_Negative</td>\n",
       "      <td>[loan, credit, business]</td>\n",
       "    </tr>\n",
       "    <tr>\n",
       "      <th>503</th>\n",
       "      <td>24-12-2017</td>\n",
       "      <td>1</td>\n",
       "      <td>\\r\\nRep was extremely professional, friendly, ...</td>\n",
       "      <td>North American Savings Bank</td>\n",
       "      <td>0.9886</td>\n",
       "      <td>Very_Positive</td>\n",
       "      <td>[loan, rate]</td>\n",
       "    </tr>\n",
       "    <tr>\n",
       "      <th>504</th>\n",
       "      <td>19-03-2017</td>\n",
       "      <td>1</td>\n",
       "      <td>\\r\\nI was working with a loan consultant from ...</td>\n",
       "      <td>North American Savings Bank</td>\n",
       "      <td>0.9442</td>\n",
       "      <td>Very_Positive</td>\n",
       "      <td>[loan, rate]</td>\n",
       "    </tr>\n",
       "  </tbody>\n",
       "</table>\n",
       "</div>"
      ],
      "text/plain": [
       "           Date  Stars                                            Reviews  \\\n",
       "500  06-02-2016      1  \\r\\nI never write reviews but had to this time...   \n",
       "501  25-07-2016      1  \\r\\nIt all started when Bob G ran a credit che...   \n",
       "502  27-09-2017      1  \\r\\nWhat a horrible experience. We have excell...   \n",
       "503  24-12-2017      1  \\r\\nRep was extremely professional, friendly, ...   \n",
       "504  19-03-2017      1  \\r\\nI was working with a loan consultant from ...   \n",
       "\n",
       "                        BankName  Polarity      Sentiment  \\\n",
       "500  North American Savings Bank    0.9540  Very_Positive   \n",
       "501  North American Savings Bank   -0.0457        Neutral   \n",
       "502  North American Savings Bank   -0.3129  Less_Negative   \n",
       "503  North American Savings Bank    0.9886  Very_Positive   \n",
       "504  North American Savings Bank    0.9442  Very_Positive   \n",
       "\n",
       "                                               Aspects  \n",
       "500  [loan, credit, amount, account, documents, bus...  \n",
       "501                                     [credit, bank]  \n",
       "502                           [loan, credit, business]  \n",
       "503                                       [loan, rate]  \n",
       "504                                       [loan, rate]  "
      ]
     },
     "execution_count": 19,
     "metadata": {},
     "output_type": "execute_result"
    }
   ],
   "source": [
    "customer.tail()"
   ]
  },
  {
   "cell_type": "code",
   "execution_count": 20,
   "metadata": {},
   "outputs": [
    {
     "name": "stdout",
     "output_type": "stream",
     "text": [
      "Very Positive Aspect Counts: 517\n",
      "Less Positive Aspect Counts: 82\n",
      "Neutral Aspect Counts: 53\n",
      "Less Negative Aspect Counts: 41\n",
      "Very Negative Aspect Counts: 64\n"
     ]
    }
   ],
   "source": [
    "# separate out count of aspects from each sentiments\n",
    "asp_vp = customer['Aspects'][customer['Sentiment'] == 'Very_Positive']\n",
    "asp_vp_lst = list(itertools.chain.from_iterable(asp_vp))\n",
    "print('Very Positive Aspect Counts:', len(asp_vp_lst))\n",
    "\n",
    "asp_lp = customer['Aspects'][customer['Sentiment'] == 'Less_Positive']\n",
    "asp_lp_lst = list(itertools.chain.from_iterable(asp_lp))\n",
    "print('Less Positive Aspect Counts:', len(asp_lp_lst))\n",
    "\n",
    "asp_n = customer['Aspects'][customer['Sentiment'] == 'Neutral']\n",
    "asp_n_lst = list(itertools.chain.from_iterable(asp_n))\n",
    "print('Neutral Aspect Counts:', len(asp_n_lst))\n",
    "\n",
    "asp_ln = customer['Aspects'][customer['Sentiment'] == 'Less_Negative']\n",
    "asp_ln_lst = list(itertools.chain.from_iterable(asp_ln))\n",
    "print('Less Negative Aspect Counts:', len(asp_ln_lst))\n",
    "\n",
    "asp_vn = customer['Aspects'][customer['Sentiment'] == 'Very_Negative']\n",
    "asp_vn_lst = list(itertools.chain.from_iterable(asp_vn))\n",
    "print('Very Negative Aspect Counts:', len(asp_vn_lst))"
   ]
  },
  {
   "cell_type": "code",
   "execution_count": 21,
   "metadata": {},
   "outputs": [],
   "source": [
    "# creating function to make plots for aspect counts in each sentiment\n",
    "def countSentimentAspectPlot(data):\n",
    "    counts_asp = Counter(data)\n",
    "    counts_asp_dict = dict(counts_asp)\n",
    "    counts_asp_df = pd.DataFrame(counts_asp_dict.items(), columns=['Aspect','Counts'])\n",
    "    plt.figure(figsize=(20,15))\n",
    "    plots = sns.barplot(x='Aspect', y='Counts', data=counts_asp_df.sort_values('Counts', ascending=False))\n",
    "    # iterating over the bars one by one\n",
    "    for bar in plots.patches:\n",
    "        plots.annotate(format(bar.get_height(), '.0f'),\n",
    "                       (bar.get_x() + bar.get_width()/2, bar.get_height()),\n",
    "                       ha='center', va='center', size=15, xytext=(0,8), textcoords='offset points')"
   ]
  },
  {
   "cell_type": "code",
   "execution_count": 22,
   "metadata": {},
   "outputs": [
    {
     "data": {
      "image/png": "[encoded data removed]",
      "text/plain": [
       "<Figure size 1440x1080 with 1 Axes>"
      ]
     },
     "metadata": {
      "needs_background": "light"
     },
     "output_type": "display_data"
    }
   ],
   "source": [
    "countSentimentAspectPlot(asp_vp_lst)"
   ]
  },
  {
   "cell_type": "code",
   "execution_count": 23,
   "metadata": {},
   "outputs": [
    {
     "data": {
      "image/png": "[encoded data removed]",
      "text/plain": [
       "<Figure size 1440x1080 with 1 Axes>"
      ]
     },
     "metadata": {
      "needs_background": "light"
     },
     "output_type": "display_data"
    }
   ],
   "source": [
    "countSentimentAspectPlot(asp_lp_lst)"
   ]
  },
  {
   "cell_type": "code",
   "execution_count": 24,
   "metadata": {},
   "outputs": [
    {
     "data": {
      "image/png": "[encoded data removed]",
      "text/plain": [
       "<Figure size 1440x1080 with 1 Axes>"
      ]
     },
     "metadata": {
      "needs_background": "light"
     },
     "output_type": "display_data"
    }
   ],
   "source": [
    "countSentimentAspectPlot(asp_n_lst)"
   ]
  },
  {
   "cell_type": "code",
   "execution_count": 25,
   "metadata": {},
   "outputs": [
    {
     "data": {
      "image/png": "[encoded data removed]",
      "text/plain": [
       "<Figure size 1440x1080 with 1 Axes>"
      ]
     },
     "metadata": {
      "needs_background": "light"
     },
     "output_type": "display_data"
    }
   ],
   "source": [
    "countSentimentAspectPlot(asp_ln_lst)"
   ]
  },
  {
   "cell_type": "code",
   "execution_count": 26,
   "metadata": {},
   "outputs": [
    {
     "data": {
      "image/png": "[encoded data removed]",
      "text/plain": [
       "<Figure size 1440x1080 with 1 Axes>"
      ]
     },
     "metadata": {
      "needs_background": "light"
     },
     "output_type": "display_data"
    }
   ],
   "source": [
    "countSentimentAspectPlot(asp_vn_lst)"
   ]
  }
 ],
 "metadata": {
  "kernelspec": {
   "display_name": "Python 3",
   "language": "python",
   "name": "python3"
  },
  "language_info": {
   "codemirror_mode": {
    "name": "ipython",
    "version": 3
   },
   "file_extension": ".py",
   "mimetype": "text/x-python",
   "name": "python",
   "nbconvert_exporter": "python",
   "pygments_lexer": "ipython3",
   "version": "3.8.5"
  }
 },
 "nbformat": 4,
 "nbformat_minor": 4
}
